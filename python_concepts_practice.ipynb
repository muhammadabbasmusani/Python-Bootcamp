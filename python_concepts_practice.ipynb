{
 "cells": [
  {
   "cell_type": "markdown",
   "id": "c28affa9",
   "metadata": {},
   "source": [
    "# Python Basics Assignment Notebook\n",
    "Instructions\n",
    "Complete all the exercises below. Each section corresponds to the concepts covered in class. Write your code in the designated cells and test your solutions."
   ]
  },
  {
   "cell_type": "markdown",
   "id": "d753050e",
   "metadata": {},
   "source": [
    "# Section 1: Print Statements and Basic Operations\n",
    "### Exercise 1.1: Print Statement\n",
    "\n",
    "Write a print statement that displays your name."
   ]
  },
  {
   "cell_type": "code",
   "execution_count": null,
   "id": "5dd3cbe8",
   "metadata": {},
   "outputs": [
    {
     "name": "stdout",
     "output_type": "stream",
     "text": [
      "Mehdi Hassan\n"
     ]
    }
   ],
   "source": [
    "my_name = \"Muhammad Abbas Musani\"\n",
    "print(my_name)\n"
   ]
  },
  {
   "cell_type": "markdown",
   "id": "9787a1fc",
   "metadata": {},
   "source": [
    "### Exercise 1.2: Arithmetic Operations\n",
    "Calculate and print the results of the following operations:\n",
    "\n",
    "- Add 15 and 25\n",
    "- Subtract 30 from 50\n",
    "- Multiply 7 by 8\n",
    "- Divide 100 by 4\n",
    "- Find the integer division of 100 by 3\n",
    "- Find the remainder when 100 is divided by 3\n",
    "- Calculate 2 to the power of 5"
   ]
  },
  {
   "cell_type": "code",
   "execution_count": null,
   "id": "0e3f8a53",
   "metadata": {},
   "outputs": [
    {
     "name": "stdout",
     "output_type": "stream",
     "text": [
      "40\n",
      "20\n",
      "56\n",
      "25.0\n",
      "1\n",
      "32\n"
     ]
    }
   ],
   "source": [
    "#add\n",
    "a = 15\n",
    "b = 25\n",
    "print(a + b)\n",
    "\n",
    "#subtract\n",
    "m = 30\n",
    "v = 50\n",
    "print(v - m)\n",
    "\n",
    "#multiply\n",
    "x = 7 \n",
    "y = 8\n",
    "print(x * y)\n",
    "\n",
    "#divide\n",
    "u = 100 \n",
    "g = 4\n",
    "print(u / g)\n",
    "\n",
    "#remainder\n",
    "c = 100\n",
    "d = 3\n",
    "remainder = 100 % 3\n",
    "print(remainder)\n",
    "\n",
    "#2 to the power of 5\n",
    "e = 2 ** 5\n",
    "print(e)"
   ]
  },
  {
   "cell_type": "markdown",
   "id": "bfa00188",
   "metadata": {},
   "source": [
    "Construct the following equation and calculate the value the value of y using Python\n",
    "![Alt text](image.png)"
   ]
  },
  {
   "cell_type": "code",
   "execution_count": 43,
   "id": "960bd718",
   "metadata": {},
   "outputs": [
    {
     "name": "stdout",
     "output_type": "stream",
     "text": [
      "-5.666666666666667\n"
     ]
    }
   ],
   "source": [
    "y = (3*x**2 + 5*x - 5) / (1 - 2*x)\n",
    "print(y)"
   ]
  },
  {
   "cell_type": "markdown",
   "id": "5498283c",
   "metadata": {},
   "source": [
    "#  Section 2: Variables and Assignment Operators\n",
    "### Exercise 2.1: Variable Assignment\n",
    "\n",
    "Create variables with the following values:\n",
    "\n",
    "- student_name = your name\n",
    "- age = your age\n",
    "- grade = your current grade/class\n",
    "\n",
    "Print all three variables."
   ]
  },
  {
   "cell_type": "code",
   "execution_count": null,
   "id": "77b416ac",
   "metadata": {},
   "outputs": [
    {
     "name": "stdout",
     "output_type": "stream",
     "text": [
      "Mehdi Hassan\n",
      "15\n",
      "matricullation\n"
     ]
    }
   ],
   "source": [
    "student_name = \"Muhammad Abbas Musani\"\n",
    "age = 17\n",
    "grade = \"matricullation\"\n",
    "print(student_name)\n",
    "print(age)\n",
    "print(grade)\n"
   ]
  },
  {
   "cell_type": "markdown",
   "id": "1e7171bb",
   "metadata": {},
   "source": [
    "### Exercise 2.2: Mathematical Operations with Variables\n",
    "Create two variables a = 10 and b = 5. Then:\n",
    "\n",
    "- Calculate their sum and store in variable sum_result\n",
    "- Calculate their product and store in variable product_result\n",
    "- Print both results"
   ]
  },
  {
   "cell_type": "code",
   "execution_count": null,
   "id": "855024ba",
   "metadata": {},
   "outputs": [
    {
     "name": "stdout",
     "output_type": "stream",
     "text": [
      "15 50\n"
     ]
    }
   ],
   "source": [
    "\n",
    "a = 10 \n",
    "b = 5\n",
    "sum_result = a + b \n",
    "\n",
    "product_result = a * b\n",
    "\n",
    "print(sum_result , product_result)"
   ]
  },
  {
   "cell_type": "markdown",
   "id": "43f5582a",
   "metadata": {},
   "source": [
    "### Exercise 2.3: Increment and Decrement Operators\n",
    "Start with a variable counter = 0:\n",
    "\n",
    "- Increment it by 3 using the += operator\n",
    "- Print the result\n",
    "- Decrement it by 1 using the -= operator\n",
    "- Print the final result"
   ]
  },
  {
   "cell_type": "code",
   "execution_count": null,
   "id": "715a472d",
   "metadata": {},
   "outputs": [
    {
     "name": "stdout",
     "output_type": "stream",
     "text": [
      "3\n",
      "1\n"
     ]
    }
   ],
   "source": [
    "a = 0\n",
    "a += 3\n",
    "print(a)\n",
    "\n",
    "\n",
    "a -= 2\n",
    "print(a)"
   ]
  },
  {
   "cell_type": "markdown",
   "id": "a302e721",
   "metadata": {},
   "source": [
    "# Section 3: Data Types\n",
    "### Exercise 3.1: Identifying Data Types\n",
    "Create variables of different types and check their types:\n",
    "\n",
    "- An integer: num1 = 42\n",
    "- A string: text1 = \"Python Programming\"\n",
    "- A float: decimal1 = 3.14159\n",
    "- A boolean: is_student = True\n",
    "\n",
    "Use the type() function to check and print the type of each variable."
   ]
  },
  {
   "cell_type": "code",
   "execution_count": 6,
   "id": "3e240477",
   "metadata": {},
   "outputs": [
    {
     "name": "stdout",
     "output_type": "stream",
     "text": [
      "<class 'int'>\n",
      "<class 'str'>\n",
      "<class 'float'>\n",
      "<class 'bool'>\n"
     ]
    }
   ],
   "source": [
    "num1 = 42 \n",
    "print(type(num1))\n",
    "\n",
    "\n",
    "text1 = \"Python Programming\"\n",
    "print(type(text1))\n",
    "\n",
    "decimal1 = 3.14159\n",
    "print(type(decimal1))\n",
    "\n",
    "\n",
    "\n",
    "is_student = True\n",
    "print(type(is_student))\n"
   ]
  },
  {
   "cell_type": "markdown",
   "id": "783be222",
   "metadata": {},
   "source": [
    "# Section 4: Strings and String Handling\n",
    "### Exercise 4.1: String Creation\n",
    "Create three string variables:\n",
    "\n",
    "- greeting = \"Hello\"\n",
    "- name = \"Python\"\n",
    "- exclamation = \"!\""
   ]
  },
  {
   "cell_type": "code",
   "execution_count": null,
   "id": "768bab0f",
   "metadata": {},
   "outputs": [],
   "source": [
    "greeting = \"Hello\"\n",
    "name = \"Python\"\n",
    "exclamation = \"!\""
   ]
  },
  {
   "cell_type": "markdown",
   "id": "8d579589",
   "metadata": {},
   "source": [
    "### Exercise 4.2: String Concatenation\n",
    "Using the variables from Exercise 4.1, concatenate them to create:\n",
    "\n",
    "- \"Hello Python!\"\n",
    "- \"Python Hello!\"\n",
    "\n",
    "Print both results."
   ]
  },
  {
   "cell_type": "code",
   "execution_count": 46,
   "id": "72208381",
   "metadata": {},
   "outputs": [
    {
     "name": "stdout",
     "output_type": "stream",
     "text": [
      "Hello Python!\n",
      "Python Hello!\n"
     ]
    }
   ],
   "source": [
    "# Your code here\n",
    "greeting = \"Hello\"\n",
    "name = \"Python\"\n",
    "exclamation = \"!\"\n",
    "print(greeting + \" \"  + name + exclamation)\n",
    "print(name + \" \" + greeting + exclamation)"
   ]
  },
  {
   "cell_type": "markdown",
   "id": "cf66e2a4",
   "metadata": {},
   "source": [
    "### Exercise 4.3: String and Number Concatenation\n",
    "Create:\n",
    "\n",
    "- label = \"Your score is: \"\n",
    "- score = 95\n",
    "\n",
    "Concatenate them to print \"Your score is: 95\""
   ]
  },
  {
   "cell_type": "code",
   "execution_count": 26,
   "id": "cee7791c",
   "metadata": {},
   "outputs": [
    {
     "name": "stdout",
     "output_type": "stream",
     "text": [
      "Your score is:95\n"
     ]
    }
   ],
   "source": [
    "# Your code here\n",
    "label = \"Your score is:\"\n",
    "score = 95\n",
    "print(label + str(score))"
   ]
  },
  {
   "cell_type": "markdown",
   "id": "2941c047",
   "metadata": {},
   "source": [
    "# Section 5: Type Conversion\n",
    "### Exercise 5.1: String to Integer\n",
    "Given str_num = \"25\":\n",
    "\n",
    "- Check its type\n",
    "- Convert it to an integer\n",
    "- Check the type of the converted value\n",
    "- Print both the original and converted values"
   ]
  },
  {
   "cell_type": "code",
   "execution_count": 47,
   "id": "3f60f60e",
   "metadata": {},
   "outputs": [
    {
     "name": "stdout",
     "output_type": "stream",
     "text": [
      "<class 'str'>\n",
      "<class 'int'>\n",
      "25\n",
      "25\n"
     ]
    }
   ],
   "source": [
    "# Your code here\n",
    "str_num = \"25\"\n",
    "print(type(str_num ))\n",
    "num = int(str_num)\n",
    "print(type(num))\n",
    "print(str_num)\n",
    "print(num)"
   ]
  },
  {
   "cell_type": "markdown",
   "id": "745d3efa",
   "metadata": {},
   "source": [
    "### Exercise 5.2: Adding Numbers with Type Conversion\n",
    "You have:\n",
    "\n",
    "- num_a = 10\n",
    "- num_b = \"15\"\n",
    "\n",
    "Add these two numbers by converting num_b to an integer"
   ]
  },
  {
   "cell_type": "code",
   "execution_count": 35,
   "id": "0af97c14",
   "metadata": {},
   "outputs": [
    {
     "name": "stdout",
     "output_type": "stream",
     "text": [
      "25\n"
     ]
    }
   ],
   "source": [
    "# Your code here\n",
    "num_a = 10 \n",
    "num_b = \"15\"\n",
    "print(num_a + int(num_b))"
   ]
  },
  {
   "cell_type": "markdown",
   "id": "e49ca983",
   "metadata": {},
   "source": [
    "# Section 6: String Indexing\n",
    "### Exercise 6.1: Basic String Indexing\n",
    "\n",
    "Given student_name = \"Python\":\n",
    "\n",
    "- Print the character at index 2\n",
    "- Print the last character using negative indexing\n",
    "- Print the second-to-last character\n",
    "- Print the first character using negative indexing\n",
    "- Print the first and last characters together (e.g., \"P,n\")\n",
    "- Print characters at positions 0, 5, and -1 together"
   ]
  },
  {
   "cell_type": "code",
   "execution_count": 65,
   "id": "1308ec0b",
   "metadata": {},
   "outputs": [
    {
     "name": "stdout",
     "output_type": "stream",
     "text": [
      "t\n",
      "n\n",
      "ython\n",
      "P\n",
      "Pn\n",
      "Pnn\n"
     ]
    }
   ],
   "source": [
    "# Your code here\n",
    "student_name = \"Python\"\n",
    "print(student_name[2])\n",
    "print(student_name[-1])\n",
    "print(student_name[1:])\n",
    "print(student_name[-6])\n",
    "print(student_name[0: :5])\n",
    "print(student_name[0] + student_name[5] + student_name[-1])\n",
    "\n",
    "\n",
    "\n",
    "\n"
   ]
  },
  {
   "cell_type": "markdown",
   "id": "9a6200bb",
   "metadata": {},
   "source": [
    "# Section 7: String Slicing\n",
    "### Exercise 7.1: Basic Slicing\n",
    "Given text = \"Hello, Python!\":\n",
    "\n",
    "- Extract \"Hello\"\n",
    "- Extract \"Python\"\n",
    "- Extract the last 5 characters"
   ]
  },
  {
   "cell_type": "code",
   "execution_count": null,
   "id": "37f370b7",
   "metadata": {},
   "outputs": [
    {
     "name": "stdout",
     "output_type": "stream",
     "text": [
      "Hello\n",
      "Python\n",
      "!\n"
     ]
    }
   ],
   "source": [
    "# Your code here\n",
    "text = \"Hello, Python!\"\n",
    "print(text[0:5])\n",
    "print(text[7:13])\n",
    "print(text[-1:])"
   ]
  },
  {
   "cell_type": "markdown",
   "id": "45428fbc",
   "metadata": {},
   "source": [
    "### Exercise 7.2: Advanced Slicing\n",
    "Using alphabet = \"abcdefghijklmno\":\n",
    "\n",
    "- Extract \"cde\"\n",
    "- Extract every second character starting from index 0\n",
    "- Extract the string in reverse order\n",
    "- Extract every third character"
   ]
  },
  {
   "cell_type": "code",
   "execution_count": 116,
   "id": "d42f1d9f",
   "metadata": {},
   "outputs": [
    {
     "name": "stdout",
     "output_type": "stream",
     "text": [
      "cde\n",
      "acegikmo\n",
      "\n",
      "adgjm\n"
     ]
    }
   ],
   "source": [
    "# Your code here\n",
    "alphabet = \"abcdefghijklmno\"\n",
    "print(alphabet[2:5])\n",
    "print(alphabet[0: :2])\n",
    "print(alphabet[-1:-16])\n",
    "print(alphabet[0: :3])"
   ]
  },
  {
   "cell_type": "markdown",
   "id": "f46f7b53",
   "metadata": {},
   "source": [
    "### Exercise 7.3: Practical Slicing\n",
    "Given sentence = \"Python programming is fun\":\n",
    "\n",
    "- Extract the word \"Python\"\n",
    "- Extract the word \"programming\"\n",
    "- Extract the last word \"fun\"\n",
    "- Extract every other character from the entire string"
   ]
  },
  {
   "cell_type": "code",
   "execution_count": 121,
   "id": "fc62cca3",
   "metadata": {},
   "outputs": [
    {
     "name": "stdout",
     "output_type": "stream",
     "text": [
      "Python\n",
      " programming\n",
      " fun\n",
      " \n"
     ]
    }
   ],
   "source": [
    "# Your code here\n",
    "sentence = \"Python programming is fun\"\n",
    "print(sentence[0:6])\n",
    "print(sentence[6:18])\n",
    "print(sentence[21:25])\n",
    "print(sentence[18:19])"
   ]
  },
  {
   "cell_type": "markdown",
   "id": "fdc66f21",
   "metadata": {},
   "source": [
    "# Section 8: String Methods\n",
    "### Exercise 8.1: Mixed String Methods\n",
    "Create a program that:\n",
    "\n",
    "- Takes a string user_input = \"  hello WORLD  \"\n",
    "- Removes leading and trailing spaces (use .strip())\n",
    "- Converts it to title case\n",
    "- Checks if the result is alphabetic\n",
    "- Count the number of \"o\" characters\n",
    "- Replace \"o\" with \"0\""
   ]
  },
  {
   "cell_type": "code",
   "execution_count": 25,
   "id": "d002cc6f",
   "metadata": {},
   "outputs": [
    {
     "name": "stdout",
     "output_type": "stream",
     "text": [
      "hello WORLD\n",
      " Hello World \n",
      "False\n",
      "1\n",
      " hellO WORLD \n"
     ]
    }
   ],
   "source": [
    "# Your code here\n",
    "user_input=\" hello WORLD \"\n",
    "a= user_input.strip()\n",
    "print(a)\n",
    "m = user_input.title()\n",
    "print(m)\n",
    "n= user_input.isalpha()\n",
    "print(n)\n",
    "e= user_input.count(\"o\")\n",
    "print(e)\n",
    "g= user_input.replace(\"o\", \"O\")\n",
    "print(g)"
   ]
  },
  {
   "cell_type": "markdown",
   "id": "b4ac379d",
   "metadata": {},
   "source": [
    "# Section 9: Debugging Exercise\n",
    "### Exercise 9.1: Find and Fix the Errors\n",
    "The following code has several errors. Identify and fix them:\n",
    "\n",
    "```\n",
    "# Original code with errors (DO NOT RUN - FIX FIRST)\n",
    "name = 'John\n",
    "age = \"25\"\n",
    "print(\"Hello, \" + name)\n",
    "print(\"You are \" + age + \" years old\")\n",
    "print(name[0] + name[-1)\n",
    "result = int(\"abc\")\n",
    "```\n",
    "\n",
    "Write the corrected version below:"
   ]
  },
  {
   "cell_type": "code",
   "execution_count": 32,
   "id": "2b40e20f",
   "metadata": {},
   "outputs": [
    {
     "name": "stdout",
     "output_type": "stream",
     "text": [
      "Hello, John\n",
      "You are 25 years old\n",
      "Jn\n"
     ]
    }
   ],
   "source": [
    "name = 'John'\n",
    "age = \"25\"\n",
    "print(\"Hello, \" + name)\n",
    "print(\"You are \" + age + \" years old\")\n",
    "print(name[0] + name[-1])\n",
    "result = int(age)"
   ]
  }
 ],
 "metadata": {
  "kernelspec": {
   "display_name": "Python 3",
   "language": "python",
   "name": "python3"
  },
  "language_info": {
   "codemirror_mode": {
    "name": "ipython",
    "version": 3
   },
   "file_extension": ".py",
   "mimetype": "text/x-python",
   "name": "python",
   "nbconvert_exporter": "python",
   "pygments_lexer": "ipython3",
   "version": "3.11.9"
  }
 },
 "nbformat": 4,
 "nbformat_minor": 5
}
